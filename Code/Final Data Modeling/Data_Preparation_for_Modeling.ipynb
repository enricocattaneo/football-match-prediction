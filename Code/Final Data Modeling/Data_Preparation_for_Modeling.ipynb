{
 "cells": [
  {
   "attachments": {},
   "cell_type": "markdown",
   "metadata": {},
   "source": [
    "# **Datasets Preparation Before Modeling**"
   ]
  },
  {
   "cell_type": "code",
   "execution_count": 1,
   "metadata": {},
   "outputs": [],
   "source": [
    "# Packages\n",
    "import numpy as np\n",
    "import pandas as pd\n",
    "from datetime import datetime, timedelta\n",
    "from dateutil.relativedelta import relativedelta\n",
    "import itertools\n",
    "# Pandas' options\n",
    "pd.set_option('display.max_columns', None)\n",
    "pd.set_option('display.max_rows', None)"
   ]
  },
  {
   "attachments": {},
   "cell_type": "markdown",
   "metadata": {},
   "source": [
    "### *Preparation: Venue Dataset*"
   ]
  },
  {
   "cell_type": "code",
   "execution_count": 2,
   "metadata": {},
   "outputs": [
    {
     "name": "stdout",
     "output_type": "stream",
     "text": [
      "(10536, 24)\n"
     ]
    }
   ],
   "source": [
    "# Import Data\n",
    "venue_df = pd.read_csv('../../Data/Modeling_Before_Preparation/Venue_data_v01.csv').set_index('id')\n",
    "# Filter Columns\n",
    "venue_columns = ['result', 'league_id', 'season_id', 'season_name', 'venue_id', 'venue_city', 'attendance', 'venue_capacity', 'home_country_id', 'away_country_id', 'home_venue_id', 'away_venue_id', 'venue_surface_isgrass'] + venue_df.loc[:, 'temp':'night_game'].columns.tolist() + ['travel_dist(km)', 'colors_home_color', 'colors_away_color']\n",
    "venue_df = venue_df.loc[:, venue_columns]\n",
    "# Correct some Errors\n",
    "venue_df.loc[venue_df['attendance'] < 0, 'attendance'] = 0 \n",
    "\n",
    "# Create new features\n",
    "venue_df['home_not_home'] = np.where(venue_df['venue_id'] != venue_df['home_venue_id'], 1, 0)\n",
    "venue_df['travel_outside_state'] = np.where(venue_df['home_country_id'] != venue_df['away_country_id'], 1, 0)\n",
    "venue_df['attendance_ratio'] = venue_df['attendance'] / venue_df['venue_capacity']\n",
    "venue_df.loc[venue_df['attendance_ratio'] > 1.0, 'attendance_ratio'] = 1\n",
    "\n",
    "# Convert colors values\n",
    "conv_colors = {'#F0F0F0':'W','#C40010':'RE','#0A0A0A':'BL','#FFDF1B':'YE','#002B87':'BL','#0046A8':'BL','#FBED32':'YE','#262626':'W','#022857':'BL','#940014':'RE','#2B72DE':'GRN','#00C1BA':'GRN','#D6003D':'RE','#79ADE2':'GRN','#832034':'RE','#339063':'GRN','#CCCCCC':'W','#C0D6FE':'GRN','#B0E8E6':'GRN','#679FEA':'GRN','#0C183A':'BL','#F4F48A':'YE','#FDBD0F':'RE','#0060BF':'BL','#025C17':'GRN','#EA9C08':'RE','#3B1E4F':'PU','#F61917':'RE','#007848':'GRN','#FC7E00':'RE','#7C45CA':'PU','#E996BC':'PU','#FCC24F':'YE','#4BD43B':'GRN','#A7D6F5':'GRN','#E03A3E':'RE','#B9D9EC':'GRN','#2291FF':'GRN','#482F8A':'PU','#1544B8':'BL','#235234':'GRN','#1E48C0':'BL','#666666':'W','#ABD422':'GRN','#BFFFBF':'GRN','#D50619':'RE','#F18A01':'RE','#2F97DA':'GRN','#EB172B':'RE','#E11B22':'RE','#202A44':'BL','#EEC0C8':'PU','#5B000F':'RE','#004F9F':'BL','#D71920':'RE','#D94B14':'RE','#D82520':'RE','#881319':'RE','#AAAAAA':'W','#8EBADB':'GRN','#999900':'GRN','#D61414':'RE','#316F37':'GRN','#00AA64':'GRN','#0C7662':'GRN','#888888':'W','#34165F':'PU','#2F6452':'GRN','#111111':'BL','#AA5B9C':'PU','#E41B1B':'RE','#D446BA':'PU','#013D38':'GRN','#283964':'BL','#171C28':'BL','#FDE713':'YE','#CE0000':'RE','#451021':'RE','#1F162B':'BL','#04614A':'GRN','#5F002B':'RE', '#800000':'RE', '#D00014':'RE', 'F0F0F0':'W'}\n",
    "venue_df['colors_home_color'].replace(conv_colors, inplace=True)\n",
    "venue_df['colors_away_color'].replace(conv_colors, inplace=True)\n",
    "\n",
    "# Assign correct data types \n",
    "categorial_columns = ['colors_home_color','colors_away_color', 'league_id', 'season_id', 'season_name', 'venue_id', 'venue_city']\n",
    "venue_df.drop(columns=['away_country_id', 'home_venue_id', 'away_venue_id'], inplace=True)\n",
    "venue_df[categorial_columns] = venue_df[categorial_columns].astype('category')\n",
    "venue_df['season_name_codes'] = venue_df['season_name'].cat.codes\n",
    "venue_df.drop(columns=['season_name'], inplace=True)\n",
    "\n",
    "# Print + Store dataset\n",
    "print(venue_df.shape)\n",
    "venue_df.head(2)\n",
    "venue_df.to_csv('../../Data/Modeling_Final/1_venue.csv')"
   ]
  },
  {
   "attachments": {},
   "cell_type": "markdown",
   "metadata": {},
   "source": [
    "### *Preparation: Standings Dataset*"
   ]
  },
  {
   "cell_type": "code",
   "execution_count": 3,
   "metadata": {},
   "outputs": [
    {
     "name": "stderr",
     "output_type": "stream",
     "text": [
      "/Library/anaconda3/lib/python3.7/site-packages/ipykernel_launcher.py:17: PerformanceWarning: DataFrame is highly fragmented.  This is usually the result of calling `frame.insert` many times, which has poor performance.  Consider joining all columns at once using pd.concat(axis=1) instead.  To get a de-fragmented frame, use `newframe = frame.copy()`\n",
      "  app.launch_new_instance()\n"
     ]
    },
    {
     "name": "stdout",
     "output_type": "stream",
     "text": [
      "(10536, 185)\n"
     ]
    }
   ],
   "source": [
    "# Import Data\n",
    "standings_df = pd.read_csv('../../Data/Modeling_Before_Preparation/Standings_v01.csv').set_index('id')\n",
    "# Filter Features\n",
    "initial_cols = ['result', 'league_id', 'season_id', 'season_name']\n",
    "columns_standings = initial_cols + standings_df.loc[:, 'ROUND':].columns.tolist()\n",
    "standings_df = standings_df.loc[:, columns_standings]\n",
    "\n",
    "# Change some columns dtypes to categorical\n",
    "standings_df[initial_cols] = standings_df[initial_cols].astype('category')\n",
    "# Downcast Dtypes\n",
    "float_cols = standings_df.select_dtypes(np.float_).columns.tolist()\n",
    "int_cols = standings_df.select_dtypes(np.int_).columns.tolist()\n",
    "cat_cols =  standings_df.select_dtypes(pd.CategoricalDtype).columns.tolist()\n",
    "standings_df.loc[:, float_cols] = standings_df.loc[:, float_cols].apply(pd.to_numeric, downcast='float')\n",
    "standings_df.loc[:, int_cols] = standings_df.loc[:, int_cols].apply(pd.to_numeric, downcast='integer')\n",
    "# Assign correct data types\n",
    "standings_df['season_name_codes'] = standings_df['season_name'].astype('category').cat.codes\n",
    "standings_df.drop(columns=['season_name'], inplace=True)\n",
    "# Numerical and Categorical variables \n",
    "rank_cols = standings_df.filter(regex='rank').columns.tolist() + ['ROUND']\n",
    "standings_df[rank_cols] = standings_df[rank_cols].astype('category')\n",
    "numerical_cols = standings_df.select_dtypes(np.number).columns.tolist()\n",
    "cat = ['league_id', 'season_id']\n",
    "\n",
    "# Print + Store dataset\n",
    "print(standings_df.shape)\n",
    "standings_df.head(2)\n",
    "standings_df.to_csv('../../Data/Modeling_Final/2_standings.csv')"
   ]
  },
  {
   "attachments": {},
   "cell_type": "markdown",
   "metadata": {},
   "source": [
    "### *Preparation: Form & Rest Dataset*"
   ]
  },
  {
   "cell_type": "code",
   "execution_count": 4,
   "metadata": {},
   "outputs": [
    {
     "name": "stdout",
     "output_type": "stream",
     "text": [
      "(10438, 259)\n"
     ]
    }
   ],
   "source": [
    "# Import Data for both Rest and Form + Merge \n",
    "old_form = pd.read_csv('../../Data/Modeling_Before_Preparation/Form_data_v01.csv').set_index('id').drop(columns=['index'])\n",
    "rest = pd.read_csv('../../Data/Modeling_Before_Preparation/Team_attributes_and_Rest_data_v01.csv').set_index('id')\n",
    "rest_cols = ['league_id', 'season_id', 'season_name'] + rest.loc[:, 'home_n_games_last60d':].columns.tolist()\n",
    "rest = rest.loc[:, rest_cols]\n",
    "form_df = pd.merge(old_form, rest, how='left', left_index=True, right_index=True)\n",
    "# Filter columns\n",
    "columns_df = ['result', 'league_id', 'season_id', 'season_name', 'home_rest_days', 'away_rest_days']  + form_df.filter(regex='last').columns.tolist()\n",
    "form_df = form_df.loc[:, columns_df]\n",
    "\n",
    "# Points Differentials columns \n",
    "for i in itertools.product(['points_', 'goals_scored_', 'goals_conceded_', 'goals_diff_'], ['last1_games_', 'last3_games_', 'last5_games_', 'last10_games_', 'last20_games_'], ['withcups', 'nopcups']):\n",
    "    i_joined = ''.join(i)\n",
    "    form_df['diff_' + i_joined] = form_df['home_' + i_joined] - form_df['away_' + i_joined]\n",
    "    form_df['diff_team_' + i_joined] = form_df['home_team_' + i_joined] - form_df['away_team_' + i_joined]\n",
    "    \n",
    "# Rest Days differentials columns\n",
    "form_df['diff_rest_days'] = form_df['home_rest_days'] - form_df['away_rest_days']\n",
    "for i in ['n_games_last60d', 'n_games_last30d', 'n_games_last15d', 'n_games_last7d']:\n",
    "    form_df['diff_' + i] = form_df['home_' + i] - form_df['away_' + i]\n",
    "    \n",
    "# Downcast numeric columns & drop any row with NA\n",
    "float_cols = form_df.select_dtypes(np.number).columns.tolist()\n",
    "form_df.loc[:, float_cols] = form_df.loc[:, float_cols].apply(pd.to_numeric, downcast='float')\n",
    "form_df.dropna(inplace=True)\n",
    "# Assign correct data types\n",
    "form_df['season_name_codes'] = form_df['season_name'].astype('category').cat.codes\n",
    "form_df.drop(columns=['season_name'], inplace=True)\n",
    "form_df.loc[:, ['result', 'league_id', 'season_id', 'season_name_codes']] = form_df.loc[:, ['result', 'league_id', 'season_id', 'season_name_codes']].astype(int).astype('category')\n",
    "\n",
    "# Print + Store dataset\n",
    "print(form_df.shape)\n",
    "form_df.head(2)\n",
    "form_df.to_csv('../../Data/Modeling_Final/3_form_rest.csv')"
   ]
  },
  {
   "attachments": {},
   "cell_type": "markdown",
   "metadata": {},
   "source": [
    "### *Preparation: Stats Dataset*"
   ]
  },
  {
   "cell_type": "code",
   "execution_count": 5,
   "metadata": {},
   "outputs": [
    {
     "name": "stdout",
     "output_type": "stream",
     "text": [
      "DataFrame shape before dropping NAs:  (10536, 484)\n",
      "DataFrame shape after dropping NAs:  (10205, 484)\n"
     ]
    },
    {
     "name": "stderr",
     "output_type": "stream",
     "text": [
      "/Library/anaconda3/lib/python3.7/site-packages/pandas/core/indexing.py:1667: PerformanceWarning: DataFrame is highly fragmented.  This is usually the result of calling `frame.insert` many times, which has poor performance.  Consider joining all columns at once using pd.concat(axis=1) instead.  To get a de-fragmented frame, use `newframe = frame.copy()`\n",
      "  self.obj[key] = value\n"
     ]
    },
    {
     "name": "stdout",
     "output_type": "stream",
     "text": [
      "(10205, 724)\n"
     ]
    }
   ],
   "source": [
    "# Import Data\n",
    "stats_df = pd.read_csv('../../Data/Modeling_Before_Preparation/Stats_data_v01.csv').set_index('id')\n",
    "rest = pd.read_csv('../../Data/Modeling_Before_Preparation/Team_attributes_and_Rest_data_v01.csv').set_index('id')\n",
    "rest_cols = ['result', 'league_id', 'season_id', 'season_name'] \n",
    "rest = rest.loc[:, rest_cols]\n",
    "stats_df = pd.merge(rest, stats_df, how='right', left_index=True, right_index=True)\n",
    "\n",
    "# Get rest data to add missing league_id, season_id, and season_name\n",
    "columns_df = ['result', 'league_id', 'season_id', 'season_name']  + stats_df.filter(regex='last').columns.tolist()\n",
    "stats_df = stats_df.loc[:, columns_df]\n",
    "print('DataFrame shape before dropping NAs: ', stats_df.shape)\n",
    "# Downcast numeric columns & drop any row with NA\n",
    "float_cols = stats_df.select_dtypes(np.number).columns.tolist()\n",
    "stats_df.loc[:, float_cols] = stats_df.loc[:, float_cols].apply(pd.to_numeric, downcast='float')\n",
    "# Drop all NAs\n",
    "stats_df.dropna(inplace=True)\n",
    "print('DataFrame shape after dropping NAs: ', stats_df.shape)\n",
    "\n",
    "# Points Differentials columns \n",
    "for i in itertools.product(['diff_','team_', 'team_diff_', ''], ['shots_total','shots_ongoal','shots_offgoal','shots_blocked','shots_insidebox','shots_outsidebox','fouls','corners', 'offsides', 'possessiontime', 'yellowcards','redcards','yellowredcards','saves','tackles','passes_total','passes_accurate','passes_percentage','attacks_attacks','attacks_dangerous_attacks'], ['_last1_games', '_last3_games', '_last5_games']):\n",
    "    i_joined = ''.join(i)\n",
    "    stats_df.loc[:, 'diff_' + i_joined] = stats_df.loc[:, 'home_' + i_joined] - stats_df.loc[:, 'away_' + i_joined]\n",
    "    \n",
    "# Downcast numeric columns & drop any row with NA\n",
    "float_cols = stats_df.select_dtypes(np.number).columns.tolist()\n",
    "stats_df.loc[:, float_cols] = stats_df.loc[:, float_cols].apply(pd.to_numeric, downcast='float')\n",
    "stats_df.dropna(inplace=True)\n",
    "# Assign category data type \n",
    "stats_df['season_name_codes'] = stats_df['season_name'].astype('category').cat.codes\n",
    "stats_df.drop(columns=['season_name'], inplace=True)\n",
    "stats_df.loc[:, ['result', 'league_id', 'season_id', 'season_name_codes']] = stats_df.loc[:, ['result', 'league_id', 'season_id', 'season_name_codes']].astype(int).astype('category')\n",
    "\n",
    "# Print + Store dataset\n",
    "print(stats_df.shape)\n",
    "stats_df.head(2)\n",
    "stats_df.to_csv('../../Data/Modeling_Final/4_stats.csv')"
   ]
  },
  {
   "attachments": {},
   "cell_type": "markdown",
   "metadata": {},
   "source": [
    "### *Preparation: Odds Dataset*"
   ]
  },
  {
   "cell_type": "code",
   "execution_count": 6,
   "metadata": {},
   "outputs": [
    {
     "name": "stdout",
     "output_type": "stream",
     "text": [
      "DataFrame shape before dropping NAs:  (8915, 2655)\n",
      "DataFrame shape after dropping NAs:  (8415, 1010)\n",
      "DataFrame shape after dropping count-columns:  (8415, 780)\n",
      "(8415, 780)\n"
     ]
    }
   ],
   "source": [
    "# Import Data\n",
    "odds_df = pd.read_csv('../../Data/Modeling_Before_Preparation/Odds_data_complete_v01.csv').set_index('id')\n",
    "rest = pd.read_csv('../../Data/Modeling_Before_Preparation/Team_attributes_and_Rest_data_v01.csv').set_index('id').loc[:, ['result', 'league_id', 'season_id', 'season_name']]\n",
    "odds_df = pd.merge(rest, odds_df, how='right', left_index=True, right_index=True)\n",
    "print('DataFrame shape before dropping NAs: ', odds_df.shape)\n",
    "# Drop all NAs\n",
    "odds_df.dropna(axis='columns', thresh=8700, inplace=True)\n",
    "odds_df.dropna(axis=0, how='any', inplace=True)\n",
    "print('DataFrame shape after dropping NAs: ', odds_df.shape)\n",
    "\n",
    "# Downcast numeric columns & drop any row with NA\n",
    "float_cols = odds_df.select_dtypes(np.number).columns.tolist()\n",
    "odds_df.loc[:, float_cols] = odds_df.loc[:, float_cols].apply(pd.to_numeric, downcast='float')\n",
    "imp_cols = odds_df.filter(regex='count').columns.tolist()\n",
    "odds_df.drop(columns=imp_cols, inplace=True)\n",
    "print('DataFrame shape after dropping count-columns: ', odds_df.shape)\n",
    "# Assign category data type\n",
    "odds_df['season_name_codes'] = odds_df['season_name'].astype('category').cat.codes\n",
    "odds_df.drop(columns=['season_name'], inplace=True)\n",
    "odds_df.loc[:, ['result', 'league_id', 'season_id', 'season_name_codes']] = odds_df.loc[:, ['result', 'league_id', 'season_id', 'season_name_codes']].astype(int).astype('category')\n",
    "\n",
    "# Print + Store dataset\n",
    "print(odds_df.shape)\n",
    "odds_df.head(2)\n",
    "odds_df.to_csv('../../Data/Modeling_Final/5_odds.csv')"
   ]
  },
  {
   "attachments": {},
   "cell_type": "markdown",
   "metadata": {},
   "source": [
    "### *Preparation: Team Attributes Dataset*"
   ]
  },
  {
   "cell_type": "code",
   "execution_count": 7,
   "metadata": {},
   "outputs": [
    {
     "name": "stdout",
     "output_type": "stream",
     "text": [
      "(10536, 32)\n"
     ]
    }
   ],
   "source": [
    "# Import Data\n",
    "team_attr = pd.read_csv('../../Data/Modeling_Before_Preparation/Team_attributes_and_Rest_data_v01.csv').set_index('id')\n",
    "# Filter out rest data + get desired columns \n",
    "team_attr = team_attr.loc[:, :'isrival_away']\n",
    "imp_cols = ['result', 'league_id','season_id','home_id','away_id','formations_home_formation','formations_away_formation','home_founded','home_country_id','away_country_id','away_founded','homecoach_coach_id','homecoach_country_id','homecoach_birthdate','awaycoach_coach_id','awaycoach_country_id','awaycoach_birthdate','time_starting_at_date','season_name'] + team_attr.loc[:, 'home_ObservationDate':].columns.tolist()\n",
    "team_attr = team_attr.loc[:, imp_cols]\n",
    "\n",
    "# Change transfer budget columns \n",
    "team_attr['home_TransferBudget'] = team_attr['home_TransferBudget'] / 100000\n",
    "team_attr['away_TransferBudget'] = team_attr['away_TransferBudget'] / 100000\n",
    "# Convert columns to datetime \n",
    "for col in ['homecoach_birthdate','awaycoach_birthdate','time_starting_at_date']:\n",
    "    team_attr[col] = pd.to_datetime(team_attr[col], format = '%Y-%m-%d')\n",
    "# Create new features for home/away coach age + Drop unwanted columns\n",
    "team_attr['home_coach_age'] = team_attr.apply(lambda x: \\\n",
    "    relativedelta(x['time_starting_at_date'], x['homecoach_birthdate']).years, axis=1)\n",
    "team_attr['away_coach_age'] = team_attr.apply(lambda x: \\\n",
    "    relativedelta(x['time_starting_at_date'], x['awaycoach_birthdate']).years, axis=1)\n",
    "team_attr.drop(columns=['homecoach_birthdate','awaycoach_birthdate','time_starting_at_date'], inplace=True)\n",
    "# Create differentials and ratios columns from existing columns \n",
    "diff_ratio_cols = ['Attack','Midfield','Defence','TransferBudget','Width','coach_age', 'founded']\n",
    "for col_type in diff_ratio_cols:\n",
    "    team_attr['diff_' + col_type] = team_attr['home_' + col_type] - team_attr['away_' + col_type]\n",
    "    team_attr['ratio_' + col_type] = team_attr['home_' + col_type] / team_attr['away_' + col_type]\n",
    "columns_drop = ['home_ObservationDate','home_TeamName'] + team_attr.loc[:, 'home_Captain':'away_TeamName'].columns.tolist() \\\n",
    "+ team_attr.loc[:, 'away_Captain':'away_LoanedPlayers'].columns.tolist()\n",
    "team_attr.drop(columns=columns_drop, inplace=True)\n",
    "\n",
    "# Change categorical columns to category dtype\n",
    "categorial_columns =  team_attr.loc[:, :'formations_away_formation'].columns.tolist() + ['home_country_id','away_country_id'] + \\\n",
    "    ['homecoach_coach_id','awaycoach_coach_id', 'season_name'] + team_attr.filter(regex='_is_major$').columns.tolist() + team_attr.filter(regex='^isrival_').columns.tolist()\n",
    "team_attr[categorial_columns] = team_attr[categorial_columns].astype('category')\n",
    "# Different dtypes of columns\n",
    "team_attr['home_founded'] = team_attr['home_founded'] - min(team_attr['home_founded'])\n",
    "team_attr['away_founded'] = team_attr['away_founded'] - min(team_attr['away_founded'])\n",
    "width_int = team_attr.filter(regex='(away|home|diff)_Width').columns\n",
    "team_attr.loc[:, width_int] = team_attr.loc[:, width_int].astype(int)\n",
    "float_cols = team_attr.select_dtypes(np.float_).columns.tolist()\n",
    "int_cols = team_attr.select_dtypes(np.int_).columns.tolist()\n",
    "cat_cols =  team_attr.select_dtypes(pd.CategoricalDtype).columns.tolist()\n",
    "# Downcast numerical variables\n",
    "team_attr.loc[:, float_cols] = team_attr.loc[:, float_cols].apply(pd.to_numeric, downcast='float')\n",
    "team_attr.loc[:, int_cols] = team_attr.loc[:, int_cols].apply(pd.to_numeric, downcast='integer')\n",
    "\n",
    "# Drop columns\n",
    "team_attr.drop(columns=['home_id', 'away_id', 'home_country_id', 'away_country_id', 'homecoach_coach_id', 'homecoach_country_id', 'awaycoach_country_id', 'awaycoach_coach_id', 'ratio_Attack','ratio_Midfield', 'ratio_Defence', 'ratio_Width', 'ratio_coach_age', 'ratio_founded'], inplace=True)\n",
    "team_attr['season_name_codes'] = team_attr['season_name'].cat.codes\n",
    "team_attr.drop(columns=['season_name'], inplace=True)\n",
    "\n",
    "# Print + Store dataset\n",
    "print(team_attr.shape)\n",
    "team_attr.head(2)\n",
    "team_attr.to_csv('../../Data/Modeling_Final/6_team_attr.csv')"
   ]
  },
  {
   "attachments": {},
   "cell_type": "markdown",
   "metadata": {},
   "source": [
    "### *Preparation: Player Attributes Dataset*"
   ]
  },
  {
   "cell_type": "code",
   "execution_count": 8,
   "metadata": {},
   "outputs": [
    {
     "name": "stdout",
     "output_type": "stream",
     "text": [
      "DataFrame shape before dropping NAs:  (10537, 86)\n",
      "DataFrame shape after dropping NAs:  (10536, 86)\n",
      "(10536, 127)\n"
     ]
    }
   ],
   "source": [
    "# Import Data\n",
    "player_attr_df = pd.read_csv('../../Data/Modeling_Before_Preparation/Players_attributes_v01.csv').rename(columns={'Unnamed: 0': 'id'}).set_index('id')\n",
    "rest = pd.read_csv('../../Data/Modeling_Before_Preparation/Team_attributes_and_Rest_data_v01.csv').set_index('id').loc[:, ['result', 'league_id', 'season_id', 'season_name']]\n",
    "player_attr_df = pd.merge(rest, player_attr_df, how='right', left_index=True, right_index=True)\n",
    "# Drop all NAs\n",
    "print('DataFrame shape before dropping NAs: ', player_attr_df.shape)\n",
    "player_attr_df.dropna(inplace=True)\n",
    "print('DataFrame shape after dropping NAs: ', player_attr_df.shape)\n",
    "\n",
    "# Players attributes\n",
    "common_players_attributes = ['Acceleration', 'Age', 'Aggression', 'Agility', 'Balance', 'Crossing', 'Height', 'Jumping', 'LongPass', 'Overall', 'Potential', 'Reactions', 'ShortPass', 'SprintSpeed', 'Stamina', 'Strength', 'Value', 'Vision', 'Wage', 'Weight', 'Att.Position', 'BallControl', 'Curve', 'Dribbling', 'Finishing', 'Heading', 'LongShots', 'ShotPower', 'Volleys', 'Marking', 'SlideTackle', 'StandTackle', 'Interceptions', 'GKDiving', 'GKHandling', 'GKKicking', 'GKPositioning', 'GKReflexes', 'FKAcc.', 'Penalties', 'PlayNational']\n",
    "# Attributes Differentials columns \n",
    "for att in common_players_attributes:\n",
    "    player_attr_df.loc[:, 'diff_' + att] = player_attr_df.loc[:, 'home_' + att] - player_attr_df.loc[:, 'away_' + att]\n",
    "\n",
    "# Downcast numeric columns & drop any row with NA\n",
    "float_cols = player_attr_df.select_dtypes(np.number).columns.tolist()\n",
    "player_attr_df.loc[:, float_cols] = player_attr_df.loc[:, float_cols].apply(pd.to_numeric, downcast='float')\n",
    "player_attr_df.dropna(inplace=True)\n",
    "\n",
    "# Assign category data type\n",
    "player_attr_df['season_name_codes'] = player_attr_df['season_name'].astype('category').cat.codes\n",
    "player_attr_df.drop(columns=['season_name'], inplace=True)\n",
    "player_attr_df.loc[:, ['result', 'league_id', 'season_id', 'season_name_codes']] = player_attr_df.loc[:, ['result', 'league_id', 'season_id', 'season_name_codes']].astype(int).astype('category')\n",
    "\n",
    "# Print + Store dataset\n",
    "print(player_attr_df.shape)\n",
    "player_attr_df.head(2)\n",
    "player_attr_df.to_csv('../../Data/Modeling_Final/7_players.csv')"
   ]
  }
 ],
 "metadata": {
  "kernelspec": {
   "display_name": "base",
   "language": "python",
   "name": "python3"
  },
  "language_info": {
   "codemirror_mode": {
    "name": "ipython",
    "version": 3
   },
   "file_extension": ".py",
   "mimetype": "text/x-python",
   "name": "python",
   "nbconvert_exporter": "python",
   "pygments_lexer": "ipython3",
   "version": "3.7.16"
  },
  "orig_nbformat": 4
 },
 "nbformat": 4,
 "nbformat_minor": 2
}
