{
 "cells": [
  {
   "cell_type": "markdown",
   "metadata": {},
   "source": [
    "# **Weather Data**"
   ]
  },
  {
   "cell_type": "markdown",
   "metadata": {},
   "source": [
    "Imports"
   ]
  },
  {
   "cell_type": "code",
   "execution_count": 1,
   "metadata": {},
   "outputs": [],
   "source": [
    "import pandas as pd\n",
    "import math\n",
    "import datetime\n",
    "import urllib.request\n",
    "import json\n",
    "import numpy as np\n",
    "import re\n",
    "from tqdm.notebook import trange"
   ]
  },
  {
   "cell_type": "markdown",
   "metadata": {},
   "source": [
    "### Prepare Matches Dataframe "
   ]
  },
  {
   "cell_type": "markdown",
   "metadata": {},
   "source": [
    "\n",
    "Extract the date-time and coordinates for each match later find the related weather conditions."
   ]
  },
  {
   "cell_type": "code",
   "execution_count": 2,
   "metadata": {},
   "outputs": [],
   "source": [
    "# Import Matches matches\n",
    "matches = pd.read_csv('../../Data/From_Preparation/match_cleaned_v00.csv',low_memory=False)\n",
    "matches = matches.loc[matches['league_is_cup'] == 0, :]\n",
    "# Set Fixture id as index\n",
    "matches.set_index('id', inplace=True)\n",
    "# Convert dates to datetime format\n",
    "matches['time_starting_at_date_time'] = pd.to_datetime(matches['time_starting_at_date_time'], infer_datetime_format=True)\n",
    "matches = matches.sort_values(by='time_starting_at_date_time')\n",
    "matches = matches.rename(columns={'time_starting_at_date_time': 'time'})\n",
    "# Keep only needed columns \n",
    "matches = matches[['time', 'venue_coordinates']]\n",
    "# Use venue_coordinates to create a latitude and a longitute feature\n",
    "matches['latitude'] = matches.apply(lambda row: float(re.search('\\((.*),(.*)\\)', row['venue_coordinates']).group(1)), axis=1)\n",
    "matches['longitude'] = matches.apply(lambda row: float(re.search('\\((.*),(.*)\\)', row['venue_coordinates']).group(2)), axis=1)\n",
    "matches = matches.loc[matches['time'] > '2016-07-01', :]"
   ]
  },
  {
   "cell_type": "markdown",
   "metadata": {},
   "source": [
    "### Get Data from Weather API"
   ]
  },
  {
   "cell_type": "code",
   "execution_count": 3,
   "metadata": {},
   "outputs": [
    {
     "data": {
      "application/vnd.jupyter.widget-view+json": {
       "model_id": "af699b55354c402d95308238980aad8e",
       "version_major": 2,
       "version_minor": 0
      },
      "text/plain": [
       "  0%|          | 0/10536 [00:00<?, ?it/s]"
      ]
     },
     "metadata": {},
     "output_type": "display_data"
    }
   ],
   "source": [
    "records = [] # empty list to store records \n",
    "\n",
    "# Get weather data from the API looping over match observations \n",
    "for i in trange(len(matches)):\n",
    "   # API Endpoint + Searched Parameters\n",
    "   weather_api_endpoint = 'https://weather.visualcrossing.com/VisualCrossingWebServices/rest/services/weatherdata/history'\n",
    "   query_params = '&contentType=json&aggregateMinutes=30&unitGroup=metric&includeAstronomy=true&include=stats,obs&elements=temp,precip,temp,precip,cloudcover,humidity,pressure,sunset,visibility,winddir,windgust,windspeed&key={}&startDateTime={}&endDateTime={}&locations={},{}'\n",
    "   # Match API requested information with matches observations\n",
    "   api_key = ''\n",
    "   query_params = query_params.format(api_key, matches['time'].iloc[i].isoformat(), matches['time'].iloc[i].isoformat(), matches['latitude'].iloc[i], matches['longitude'].iloc[i])\n",
    "   try:\n",
    "       response = urllib.request.urlopen(weather_api_endpoint +\"?\"+ query_params)\n",
    "       data = response.read()\n",
    "   except Exception:\n",
    "      print(\"Error reading from {}\".format(weather_api_endpoint +\"?\"+ query_params))\n",
    "   # Obtain & Store Weather data from API into records list\n",
    "   locations = json.loads(data.decode('utf-8'))[\"locations\"]\n",
    "   for locationid in locations:\n",
    "      value = locations[locationid]['values'][0]\n",
    "      records.append((matches.index[i], matches['time'].iloc[i].isoformat(),matches['latitude'].iloc[i],matches['longitude'].iloc[i],value[\"temp\"],value[\"precip\"],value[\"cloudcover\"],value[\"humidity\"],value[\"sealevelpressure\"],value[\"sunset\"], value[\"visibility\"],value[\"wdir\"],value[\"wgust\"], value[\"wspd\"]))"
   ]
  },
  {
   "cell_type": "markdown",
   "metadata": {},
   "source": [
    "### Create and Store Weather DataFrame"
   ]
  },
  {
   "cell_type": "code",
   "execution_count": null,
   "metadata": {},
   "outputs": [],
   "source": [
    "/Users/enricocattaneo/Desktop/FOOTBALL PREDICTION/Data/From_Collection/Weather_output"
   ]
  },
  {
   "cell_type": "code",
   "execution_count": 4,
   "metadata": {},
   "outputs": [
    {
     "data": {
      "text/html": [
       "<div>\n",
       "<style scoped>\n",
       "    .dataframe tbody tr th:only-of-type {\n",
       "        vertical-align: middle;\n",
       "    }\n",
       "\n",
       "    .dataframe tbody tr th {\n",
       "        vertical-align: top;\n",
       "    }\n",
       "\n",
       "    .dataframe thead th {\n",
       "        text-align: right;\n",
       "    }\n",
       "</style>\n",
       "<table border=\"1\" class=\"dataframe\">\n",
       "  <thead>\n",
       "    <tr style=\"text-align: right;\">\n",
       "      <th></th>\n",
       "      <th>id</th>\n",
       "      <th>time</th>\n",
       "      <th>lat</th>\n",
       "      <th>lon</th>\n",
       "      <th>temp</th>\n",
       "      <th>precip</th>\n",
       "      <th>cloudcover</th>\n",
       "      <th>humidity</th>\n",
       "      <th>pressure</th>\n",
       "      <th>sunset</th>\n",
       "      <th>visibility</th>\n",
       "      <th>winddir</th>\n",
       "      <th>windgust</th>\n",
       "      <th>windspeed</th>\n",
       "    </tr>\n",
       "  </thead>\n",
       "  <tbody>\n",
       "    <tr>\n",
       "      <th>10531</th>\n",
       "      <td>18165757</td>\n",
       "      <td>2022-04-11T21:00:00</td>\n",
       "      <td>40.391808</td>\n",
       "      <td>-3.658611</td>\n",
       "      <td>18.5</td>\n",
       "      <td>0.0</td>\n",
       "      <td>50.5</td>\n",
       "      <td>41.27</td>\n",
       "      <td>1004.1</td>\n",
       "      <td>2022-04-11T20:49:26+02:00</td>\n",
       "      <td>11.6</td>\n",
       "      <td>197.0</td>\n",
       "      <td>83.5</td>\n",
       "      <td>27.7</td>\n",
       "    </tr>\n",
       "    <tr>\n",
       "      <th>10532</th>\n",
       "      <td>18220188</td>\n",
       "      <td>2022-04-15T19:00:00</td>\n",
       "      <td>44.101711</td>\n",
       "      <td>9.808218</td>\n",
       "      <td>20.5</td>\n",
       "      <td>0.0</td>\n",
       "      <td>NaN</td>\n",
       "      <td>46.11</td>\n",
       "      <td>1023.0</td>\n",
       "      <td>2022-04-15T20:04:47+02:00</td>\n",
       "      <td>10.0</td>\n",
       "      <td>169.0</td>\n",
       "      <td>6.4</td>\n",
       "      <td>1.5</td>\n",
       "    </tr>\n",
       "    <tr>\n",
       "      <th>10533</th>\n",
       "      <td>18220185</td>\n",
       "      <td>2022-04-15T21:00:00</td>\n",
       "      <td>45.478025</td>\n",
       "      <td>9.124206</td>\n",
       "      <td>17.3</td>\n",
       "      <td>0.0</td>\n",
       "      <td>0.0</td>\n",
       "      <td>49.63</td>\n",
       "      <td>1018.2</td>\n",
       "      <td>2022-04-15T20:09:36+02:00</td>\n",
       "      <td>10.0</td>\n",
       "      <td>35.0</td>\n",
       "      <td>16.1</td>\n",
       "      <td>8.1</td>\n",
       "    </tr>\n",
       "    <tr>\n",
       "      <th>10534</th>\n",
       "      <td>18165743</td>\n",
       "      <td>2022-04-15T21:00:00</td>\n",
       "      <td>43.301376</td>\n",
       "      <td>-1.973602</td>\n",
       "      <td>14.1</td>\n",
       "      <td>0.0</td>\n",
       "      <td>100.0</td>\n",
       "      <td>85.54</td>\n",
       "      <td>1024.6</td>\n",
       "      <td>2022-04-15T20:50:47+02:00</td>\n",
       "      <td>11.0</td>\n",
       "      <td>304.0</td>\n",
       "      <td>19.0</td>\n",
       "      <td>7.7</td>\n",
       "    </tr>\n",
       "    <tr>\n",
       "      <th>10535</th>\n",
       "      <td>18157344</td>\n",
       "      <td>2022-04-15T21:00:00</td>\n",
       "      <td>48.107458</td>\n",
       "      <td>-1.712839</td>\n",
       "      <td>18.9</td>\n",
       "      <td>0.0</td>\n",
       "      <td>90.1</td>\n",
       "      <td>55.30</td>\n",
       "      <td>1025.3</td>\n",
       "      <td>2022-04-15T20:57:16+02:00</td>\n",
       "      <td>33.8</td>\n",
       "      <td>31.0</td>\n",
       "      <td>25.6</td>\n",
       "      <td>10.7</td>\n",
       "    </tr>\n",
       "  </tbody>\n",
       "</table>\n",
       "</div>"
      ],
      "text/plain": [
       "             id                 time        lat       lon  temp  precip  \\\n",
       "10531  18165757  2022-04-11T21:00:00  40.391808 -3.658611  18.5     0.0   \n",
       "10532  18220188  2022-04-15T19:00:00  44.101711  9.808218  20.5     0.0   \n",
       "10533  18220185  2022-04-15T21:00:00  45.478025  9.124206  17.3     0.0   \n",
       "10534  18165743  2022-04-15T21:00:00  43.301376 -1.973602  14.1     0.0   \n",
       "10535  18157344  2022-04-15T21:00:00  48.107458 -1.712839  18.9     0.0   \n",
       "\n",
       "       cloudcover  humidity  pressure                     sunset  visibility  \\\n",
       "10531        50.5     41.27    1004.1  2022-04-11T20:49:26+02:00        11.6   \n",
       "10532         NaN     46.11    1023.0  2022-04-15T20:04:47+02:00        10.0   \n",
       "10533         0.0     49.63    1018.2  2022-04-15T20:09:36+02:00        10.0   \n",
       "10534       100.0     85.54    1024.6  2022-04-15T20:50:47+02:00        11.0   \n",
       "10535        90.1     55.30    1025.3  2022-04-15T20:57:16+02:00        33.8   \n",
       "\n",
       "       winddir  windgust  windspeed  \n",
       "10531    197.0      83.5       27.7  \n",
       "10532    169.0       6.4        1.5  \n",
       "10533     35.0      16.1        8.1  \n",
       "10534    304.0      19.0        7.7  \n",
       "10535     31.0      25.6       10.7  "
      ]
     },
     "execution_count": 4,
     "metadata": {},
     "output_type": "execute_result"
    }
   ],
   "source": [
    "# Labels of output DataFrame\n",
    "labels = ['id','time','lat','lon','temp','precip','cloudcover','humidity','pressure','sunset','visibility','winddir','windgust','windspeed'] \n",
    "# Create DataFrame using records list data (specifying labels)\n",
    "weather_output_df = pd.DataFrame.from_records(records, columns=labels)\n",
    "# Store output DataFrame as CSV\n",
    "weather_output_df.to_csv('../../Data/From_Collection/Weather_output/weather_output_v02.csv', index=False) \n",
    "# Display weather data\n",
    "weather_output_df.tail()"
   ]
  }
 ],
 "metadata": {
  "kernelspec": {
   "display_name": "Python 3.7.13 ('base')",
   "language": "python",
   "name": "python3"
  },
  "language_info": {
   "codemirror_mode": {
    "name": "ipython",
    "version": 3
   },
   "file_extension": ".py",
   "mimetype": "text/x-python",
   "name": "python",
   "nbconvert_exporter": "python",
   "pygments_lexer": "ipython3",
   "version": "3.7.13"
  },
  "orig_nbformat": 4,
  "vscode": {
   "interpreter": {
    "hash": "73df3d2a648ddfe6e132dd0b2981f8c5ee01eb57f65aaa52301d101a94b0ebb5"
   }
  }
 },
 "nbformat": 4,
 "nbformat_minor": 2
}
